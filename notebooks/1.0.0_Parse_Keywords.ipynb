{
 "cells": [
  {
   "cell_type": "markdown",
   "metadata": {},
   "source": [
    "# 1.0.0 Parse Keywords"
   ]
  },
  {
   "cell_type": "code",
   "execution_count": 13,
   "metadata": {},
   "outputs": [],
   "source": [
    "import pandas as pd\n",
    "from glob import glob"
   ]
  },
  {
   "cell_type": "code",
   "execution_count": 3,
   "metadata": {},
   "outputs": [
    {
     "data": {
      "text/plain": [
       "82"
      ]
     },
     "execution_count": 3,
     "metadata": {},
     "output_type": "execute_result"
    }
   ],
   "source": [
    "all_files = glob('../markdown_files/*.md')\n",
    "len(all_files)"
   ]
  },
  {
   "cell_type": "code",
   "execution_count": 20,
   "metadata": {},
   "outputs": [],
   "source": [
    "words_list = []\n",
    "for inst_file in all_files:\n",
    "    f = open(inst_file, 'r')\n",
    "    lines = f.readlines()\n",
    "    f.close()\n",
    "    \n",
    "    for inst_line in lines:\n",
    "        inst_line = inst_line.lower()\n",
    "        \n",
    "#         if 'keyword' in inst_line:\n",
    "            \n",
    "        inst_words = inst_line.split(' ')\n",
    "        inst_words = [x for x in inst_words if '*' not in x]\n",
    "        words_list.extend(inst_words)"
   ]
  },
  {
   "cell_type": "code",
   "execution_count": 23,
   "metadata": {},
   "outputs": [
    {
     "data": {
      "text/plain": [
       "              1972\n",
       "the           1162\n",
       "of            1089\n",
       "and            868\n",
       "\\n             853\n",
       "in             725\n",
       "to             587\n",
       "a              353\n",
       "patients       340\n",
       "with           327\n",
       "that           255\n",
       "for            230\n",
       "this           223\n",
       "were           203\n",
       "as             199\n",
       "is             188\n",
       "by             185\n",
       "be             156\n",
       "from           149\n",
       "-              144\n",
       "covid-19       142\n",
       "study          141\n",
       "was            137\n",
       "sars-cov-2     136\n",
       "the\\n          134\n",
       "not            130\n",
       "on             124\n",
       "authors        123\n",
       "viral          122\n",
       "disease        121\n",
       "clinical       120\n",
       "and\\n          115\n",
       "or             109\n",
       "of\\n           106\n",
       "are            102\n",
       "at              97\n",
       "severe          94\n",
       "cells           91\n",
       "these           89\n",
       "it              88\n",
       "data            70\n",
       "cell            68\n",
       "an              67\n",
       "in\\n            66\n",
       "also            66\n",
       "t               66\n",
       "infection       65\n",
       "may             62\n",
       "to\\n            62\n",
       "have            61\n",
       "dtype: int64"
      ]
     },
     "execution_count": 23,
     "metadata": {},
     "output_type": "execute_result"
    }
   ],
   "source": [
    "pd.Series(words_list).value_counts().head(50)"
   ]
  },
  {
   "cell_type": "code",
   "execution_count": null,
   "metadata": {},
   "outputs": [],
   "source": []
  }
 ],
 "metadata": {
  "kernelspec": {
   "display_name": "Python 3",
   "language": "python",
   "name": "python3"
  },
  "language_info": {
   "codemirror_mode": {
    "name": "ipython",
    "version": 3
   },
   "file_extension": ".py",
   "mimetype": "text/x-python",
   "name": "python",
   "nbconvert_exporter": "python",
   "pygments_lexer": "ipython3",
   "version": "3.6.5"
  }
 },
 "nbformat": 4,
 "nbformat_minor": 2
}
