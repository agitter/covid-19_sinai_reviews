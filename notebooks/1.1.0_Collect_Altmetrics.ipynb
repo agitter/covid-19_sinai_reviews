{
 "cells": [
  {
   "cell_type": "markdown",
   "metadata": {},
   "source": [
    "# 1.1.0 Collect Altmetrics"
   ]
  },
  {
   "cell_type": "code",
   "execution_count": 1,
   "metadata": {},
   "outputs": [],
   "source": [
    "import pandas as pd\n",
    "import requests\n",
    "from glob import glob\n",
    "import json\n",
    "from clustergrammer2 import net"
   ]
  },
  {
   "cell_type": "code",
   "execution_count": 2,
   "metadata": {},
   "outputs": [
    {
     "data": {
      "text/plain": [
       "88"
      ]
     },
     "execution_count": 2,
     "metadata": {},
     "output_type": "execute_result"
    }
   ],
   "source": [
    "all_files = glob('../markdown_files/*.md')\n",
    "len(all_files)"
   ]
  },
  {
   "cell_type": "markdown",
   "metadata": {},
   "source": [
    "### Get the Latest Papers"
   ]
  },
  {
   "cell_type": "code",
   "execution_count": 3,
   "metadata": {},
   "outputs": [],
   "source": [
    "url = 'https://connect.biorxiv.org/relate/collection_json.php?grp=181'"
   ]
  },
  {
   "cell_type": "code",
   "execution_count": 4,
   "metadata": {},
   "outputs": [],
   "source": [
    "r = requests.get(url)"
   ]
  },
  {
   "cell_type": "code",
   "execution_count": 5,
   "metadata": {},
   "outputs": [],
   "source": [
    "req_dict = json.loads(r.text)"
   ]
  },
  {
   "cell_type": "markdown",
   "metadata": {},
   "source": [
    "### Update Altmetric Scores and Links"
   ]
  },
  {
   "cell_type": "code",
   "execution_count": 6,
   "metadata": {},
   "outputs": [],
   "source": [
    "altmetric_base_url = 'http://api.altmetric.com/v1/doi/'"
   ]
  },
  {
   "cell_type": "code",
   "execution_count": 7,
   "metadata": {},
   "outputs": [],
   "source": [
    "altmetric_scores = {}\n",
    "altmetric_details_url = {}"
   ]
  },
  {
   "cell_type": "code",
   "execution_count": 8,
   "metadata": {
    "scrolled": true
   },
   "outputs": [
    {
     "name": "stdout",
     "output_type": "stream",
     "text": [
      "number of papers 1146\n"
     ]
    }
   ],
   "source": [
    "doi_words = {}\n",
    "all_words = []\n",
    "arr_papers = req_dict['rels']\n",
    "print('number of papers', len(arr_papers))\n",
    "for inst_paper in arr_papers:\n",
    "    inst_doi = inst_paper['rel_doi']\n",
    "    \n",
    "    r = requests.get(altmetric_base_url + inst_doi)\n",
    "    \n",
    "    alt_req_dict = json.loads(r.text)\n",
    "    \n",
    "    altmetric_scores[inst_doi] = alt_req_dict['score']\n",
    "    altmetric_details_url[inst_doi] = alt_req_dict['details_url']"
   ]
  },
  {
   "cell_type": "markdown",
   "metadata": {},
   "source": [
    "### Save Scores and Links to JSON Document"
   ]
  },
  {
   "cell_type": "code",
   "execution_count": 9,
   "metadata": {},
   "outputs": [
    {
     "name": "stdout",
     "output_type": "stream",
     "text": [
      "mkdir: ../altmetric_data/: File exists\r\n"
     ]
    }
   ],
   "source": [
    "!mkdir ../altmetric_data/\n",
    "net.save_dict_to_json(altmetric_scores, '../altmetric_data/altmetric_scores.json')\n",
    "net.save_dict_to_json(altmetric_scores, '../altmetric_data/altmetric_details_url.json')"
   ]
  },
  {
   "cell_type": "code",
   "execution_count": null,
   "metadata": {},
   "outputs": [],
   "source": []
  }
 ],
 "metadata": {
  "kernelspec": {
   "display_name": "Python 3",
   "language": "python",
   "name": "python3"
  },
  "language_info": {
   "codemirror_mode": {
    "name": "ipython",
    "version": 3
   },
   "file_extension": ".py",
   "mimetype": "text/x-python",
   "name": "python",
   "nbconvert_exporter": "python",
   "pygments_lexer": "ipython3",
   "version": "3.6.5"
  }
 },
 "nbformat": 4,
 "nbformat_minor": 2
}
