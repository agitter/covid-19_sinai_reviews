{
 "cells": [
  {
   "cell_type": "code",
   "execution_count": 1,
   "metadata": {},
   "outputs": [],
   "source": [
    "import papermill as pm"
   ]
  },
  {
   "cell_type": "code",
   "execution_count": 5,
   "metadata": {},
   "outputs": [
    {
     "name": "stdout",
     "output_type": "stream",
     "text": [
      "mkdir: ../papermill_notebooks/: File exists\r\n"
     ]
    },
    {
     "data": {
      "application/vnd.jupyter.widget-view+json": {
       "model_id": "25ad763c405e44a88e8ae55e070fb918",
       "version_major": 2,
       "version_minor": 0
      },
      "text/plain": [
       "HBox(children=(FloatProgress(value=0.0, description='Executing', max=34.0, style=ProgressStyle(description_wid…"
      ]
     },
     "metadata": {},
     "output_type": "display_data"
    },
    {
     "name": "stdout",
     "output_type": "stream",
     "text": [
      "\n"
     ]
    },
    {
     "data": {
      "application/vnd.jupyter.widget-view+json": {
       "model_id": "04f6f0ff9d8d4f668b375e277ec1488a",
       "version_major": 2,
       "version_minor": 0
      },
      "text/plain": [
       "HBox(children=(FloatProgress(value=0.0, description='Executing', max=14.0, style=ProgressStyle(description_wid…"
      ]
     },
     "metadata": {},
     "output_type": "display_data"
    },
    {
     "name": "stdout",
     "output_type": "stream",
     "text": [
      "\n"
     ]
    }
   ],
   "source": [
    "!mkdir ../papermill_notebooks/\n",
    "for inst_template in ['1.2.0_Heatmap_Papers.ipynb', '1.1.0_Collect_Altmetrics.ipynb']:\n",
    "    tmp = pm.execute_notebook(\n",
    "        inst_template, \n",
    "        '../papermill_notebooks/' + inst_template\n",
    "    )"
   ]
  },
  {
   "cell_type": "code",
   "execution_count": 6,
   "metadata": {},
   "outputs": [
    {
     "name": "stdout",
     "output_type": "stream",
     "text": [
      "mkdir: ../reports/: File exists\n",
      "[NbConvertApp] Converting notebook ../papermill_notebooks/1.1.0_Collect_Altmetrics.ipynb to html\n",
      "[NbConvertApp] Writing 280754 bytes to ../reports/1.1.0_Collect_Altmetrics.html\n",
      "[NbConvertApp] Converting notebook ../papermill_notebooks/1.2.0_Heatmap_Papers.ipynb to html\n",
      "[NbConvertApp] Writing 2561996 bytes to ../reports/1.2.0_Heatmap_Papers.html\n"
     ]
    }
   ],
   "source": [
    "!mkdir ../reports/\n",
    "!jupyter nbconvert --to html --output-dir='../reports/' ../papermill_notebooks/*"
   ]
  },
  {
   "cell_type": "code",
   "execution_count": null,
   "metadata": {},
   "outputs": [],
   "source": []
  }
 ],
 "metadata": {
  "kernelspec": {
   "display_name": "Python 3",
   "language": "python",
   "name": "python3"
  },
  "language_info": {
   "codemirror_mode": {
    "name": "ipython",
    "version": 3
   },
   "file_extension": ".py",
   "mimetype": "text/x-python",
   "name": "python",
   "nbconvert_exporter": "python",
   "pygments_lexer": "ipython3",
   "version": "3.6.5"
  }
 },
 "nbformat": 4,
 "nbformat_minor": 2
}
